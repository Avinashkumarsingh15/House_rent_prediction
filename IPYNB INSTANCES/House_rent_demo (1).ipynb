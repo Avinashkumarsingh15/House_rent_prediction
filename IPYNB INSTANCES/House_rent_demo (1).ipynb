{
 "cells": [
  {
   "cell_type": "code",
   "execution_count": 4,
   "metadata": {},
   "outputs": [
    {
     "name": "stdout",
     "output_type": "stream",
     "text": [
      "Zipcode, Property Type, Room Type, Accommodates, Bathrooms, Beds, Bed Type, Linear Regression, Gradient Descent, SVM, Naive Bayes, Decision Tree, KNN\n",
      "60614,House,Entire home/apt,4,2,2,Real Bed,263.6347260288038,149.03426791556677,153.91279207811502,504.0,332.0744827586207,270.5\n"
     ]
    }
   ],
   "source": [
    "import sys\n",
    "import csv\n",
    "\n",
    "from sklearn.externals import joblib\n",
    "\n",
    "normalizer = joblib.load('normalizer.pkl')\n",
    "vectorizer = joblib.load('vectorizer.pkl')\n",
    "\n",
    "linear_regression = joblib.load('linear_regression.pkl')\n",
    "gradient_descent = joblib.load('gradient_descent.pkl')\n",
    "svm = joblib.load('svm.pkl')\n",
    "naive_bayes = joblib.load('naive_bayes.pkl')\n",
    "decision_tree = joblib.load('decision_tree.pkl')\n",
    "knn = joblib.load('knn.pkl')\n",
    "\n",
    "zipcode_rent_table = {}\n",
    "with open('full_zipcode_rent.csv') as file:\n",
    "    for line in csv.reader(file, delimiter=','):\n",
    "        if len(line) == 2:\n",
    "            try:\n",
    "                zipcode, rent = line\n",
    "                rent = int(rent)\n",
    "                zipcode_rent_table[zipcode] = rent\n",
    "            except:\n",
    "                pass\n",
    "\n",
    "\n",
    "\n",
    "print('Zipcode, Property Type, Room Type, Accommodates, Bathrooms, Beds, Bed Type, Linear Regression, Gradient Descent, SVM, Naive Bayes, Decision Tree, KNN')\n",
    "with open('demo_data.csv') as file:\n",
    "    for line in csv.reader(file, delimiter=','):\n",
    "        if len(line) == 7 and line[0] != 'Zipcode':\n",
    "            try:\n",
    "                zipcode, property_type, room_type, accommodates, bathrooms, beds, bed_type = line\n",
    "\n",
    "                average_rent = zipcode_rent_table[zipcode]\n",
    "\n",
    "                x = {\n",
    "                    'average_rent': float(average_rent),\n",
    "                    'property_type': property_type,\n",
    "                    'room_type': room_type,\n",
    "                    'accommodates': int(accommodates),\n",
    "                    'bathrooms': float(bathrooms),\n",
    "                    'beds': int(beds),\n",
    "                    'bed_type': bed_type\n",
    "                }\n",
    "\n",
    "                x = vectorizer.transform(x).toarray()\n",
    "\n",
    "                x_norm = normalizer.transform(x)\n",
    "\n",
    "                linear_regression_pred = linear_regression.predict(x)[0]\n",
    "                gradient_descent_pred = gradient_descent.predict(x_norm)[0]\n",
    "                svm_pred = svm.predict(x)[0]\n",
    "                naive_bayes_pred = naive_bayes.predict(x)[0]\n",
    "                decision_tree_pred = decision_tree.predict(x)[0]\n",
    "                knn_pred = knn.predict(x)[0]\n",
    "\n",
    "                output = ','.join([\n",
    "                    zipcode,\n",
    "                    property_type,\n",
    "                    room_type,\n",
    "                    accommodates,\n",
    "                    bathrooms,\n",
    "                    beds,\n",
    "                    bed_type,\n",
    "                    str(linear_regression_pred),\n",
    "                    str(gradient_descent_pred),\n",
    "                    str(svm_pred),\n",
    "                    str(naive_bayes_pred),\n",
    "                    str(decision_tree_pred),\n",
    "                    str(knn_pred)\n",
    "                ])\n",
    "\n",
    "                print(output)\n",
    "\n",
    "\n",
    "            except:\n",
    "                pass"
   ]
  },
  {
   "cell_type": "code",
   "execution_count": null,
   "metadata": {},
   "outputs": [],
   "source": []
  }
 ],
 "metadata": {
  "environment": {
   "name": "tf-gpu.1-15.m46",
   "type": "gcloud",
   "uri": "gcr.io/deeplearning-platform-release/tf-gpu.1-15:m46"
  },
  "kernelspec": {
   "display_name": "Python 3",
   "language": "python",
   "name": "python3"
  },
  "language_info": {
   "codemirror_mode": {
    "name": "ipython",
    "version": 3
   },
   "file_extension": ".py",
   "mimetype": "text/x-python",
   "name": "python",
   "nbconvert_exporter": "python",
   "pygments_lexer": "ipython3",
   "version": "3.7.6"
  }
 },
 "nbformat": 4,
 "nbformat_minor": 4
}
